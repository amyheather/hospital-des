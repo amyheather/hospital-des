{
 "cells": [
  {
   "cell_type": "code",
   "execution_count": 3,
   "metadata": {},
   "outputs": [
    {
     "name": "stdout",
     "output_type": "stream",
     "text": [
      "Simulation completed with duration: 100\n",
      "Results: [0, 10, 20, 30, 40, 50, 60, 70, 80, 90]\n",
      "Longer simulation completed with duration: 200\n",
      "Number of results: 20\n"
     ]
    }
   ],
   "source": [
    "# Import our simulation package\n",
    "from simulation.model import run_simulation\n",
    "\n",
    "# Run the simulation with default parameters\n",
    "results = run_simulation()\n",
    "print(f\"Simulation completed with duration: {results['duration']}\")\n",
    "print(f\"Results: {results['results']}\")\n",
    "\n",
    "# Run with a different duration\n",
    "long_results = run_simulation(duration=200)\n",
    "print(f\"Longer simulation completed with duration: {long_results['duration']}\")\n",
    "print(f\"Number of results: {len(long_results['results'])}\")"
   ]
  }
 ],
 "metadata": {
  "kernelspec": {
   "display_name": "des-example",
   "language": "python",
   "name": "python3"
  },
  "language_info": {
   "codemirror_mode": {
    "name": "ipython",
    "version": 3
   },
   "file_extension": ".py",
   "mimetype": "text/x-python",
   "name": "python",
   "nbconvert_exporter": "python",
   "pygments_lexer": "ipython3",
   "version": "3.13.1"
  }
 },
 "nbformat": 4,
 "nbformat_minor": 2
}
